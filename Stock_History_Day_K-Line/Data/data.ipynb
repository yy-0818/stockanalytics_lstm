{
 "cells": [
  {
   "cell_type": "code",
   "execution_count": 1,
   "metadata": {},
   "outputs": [],
   "source": [
    "import pandas as pd\n",
    "\n",
    "# 为每个CSV文件读取数据\n",
    "file_names = [\"stock_1.csv\", \"stock_2.csv\", \"stock_3.csv\"]\n",
    "dataframes = []\n",
    "\n",
    "for file_name in file_names:\n",
    "    df = pd.read_csv(file_name, encoding='utf-8')  # 使用正确的编码读取CSV文件\n",
    "    dataframes.append(df)\n",
    "\n",
    "# 定义英语列名字典，将汉字列名映射到英语\n",
    "column_name_mapping = {\n",
    "    '股票名称': 'Stock Name',\n",
    "    '股票代码': 'Stock Code',\n",
    "    '日期': 'Date',\n",
    "    '开盘': 'Open',\n",
    "    '收盘': 'Close',\n",
    "    '最高': 'High',\n",
    "    '最低': 'Low',\n",
    "    '成交量': 'Volume',\n",
    "    '成交额': 'Turnover',\n",
    "    '振幅': 'Amplitude',\n",
    "    '涨跌幅': 'Change Percent',\n",
    "    '涨跌额': 'Change Amount',\n",
    "    '换手率': 'Turnover Rate'\n",
    "}\n",
    "\n",
    "# 使用列名字典重命名列\n",
    "for i, df in enumerate(dataframes):\n",
    "    dataframes[i] = df.rename(columns=column_name_mapping)\n",
    "\n",
    "# 将数据写回CSV文件\n",
    "for i, file_name in enumerate(file_names):\n",
    "    dataframes[i].to_csv(file_name, index=False, encoding='utf-8')  # 使用正确的编码写回CSV文件"
   ]
  },
  {
   "cell_type": "code",
   "execution_count": null,
   "metadata": {},
   "outputs": [],
   "source": []
  }
 ],
 "metadata": {
  "kernelspec": {
   "display_name": "stockanalytics",
   "language": "python",
   "name": "python3"
  },
  "language_info": {
   "codemirror_mode": {
    "name": "ipython",
    "version": 3
   },
   "file_extension": ".py",
   "mimetype": "text/x-python",
   "name": "python",
   "nbconvert_exporter": "python",
   "pygments_lexer": "ipython3",
   "version": "3.10.0 (tags/v3.10.0:b494f59, Oct  4 2021, 19:00:18) [MSC v.1929 64 bit (AMD64)]"
  },
  "orig_nbformat": 4,
  "vscode": {
   "interpreter": {
    "hash": "279ea8497cac027805acef43e83ef4cfa0e5e1e7e5818192d2cbe6a6c492dc3e"
   }
  }
 },
 "nbformat": 4,
 "nbformat_minor": 2
}
